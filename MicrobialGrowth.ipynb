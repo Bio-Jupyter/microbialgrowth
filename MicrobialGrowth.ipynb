{
 "cells": [
  {
   "cell_type": "markdown",
   "id": "606027ae-b4ac-4acd-b1e9-e992a452dbea",
   "metadata": {},
   "source": [
    " <div style=\"background-color:#a9dce3; padding:10px; text-align:center; box-shadow: 5px 5px 10px #888888; border-radius: 10px;\">\n",
    "    <font color=\"#7689de\">\n",
    "        <h1><b>Lab Course Applied Microbiology - Microbial Growth</b></h1>\n",
    "    </font>\n",
    "</div>"
   ]
  },
  {
   "cell_type": "markdown",
   "id": "ce15770f-a4de-472f-871d-f913d87b4ef5",
   "metadata": {},
   "source": [
    "#####  <font color=007BFF> Fensterle, Lucassen</font>"
   ]
  },
  {
   "cell_type": "markdown",
   "id": "56bc2918-c0b4-4608-b774-11572b47adfc",
   "metadata": {},
   "source": [
    " ### <font color=FF4500> 1. Background and Aim </font> </center> "
   ]
  },
  {
   "cell_type": "markdown",
   "id": "3ad74c69-e1d7-45ca-8810-5a014e4a7f8a",
   "metadata": {},
   "source": [
    "In static cultures, microbial growth kinetic is characterized by an initial lag phase, an exponential phase \r\n",
    "followed by a static phase. Several parameters can be derived from this growth curve. As an example, \r\n",
    "the maximal specific growth rate μmax, which is specific for a given strain, can be calculated for the \r\n",
    "period of exponential growth (see lecture)."
   ]
  },
  {
   "cell_type": "markdown",
   "id": "49ae32c2-ddab-4eb5-b0f9-7bd47bdf41d0",
   "metadata": {},
   "source": [
    "<font color=FF4500>**Before this lab course day and the start of this experiment, you have to prepare an Excel spreadsheet based on the draft “raw data microbial growth c-g”. Fill in the respective formulas for automatic calculation of CFU, OD and cell number yourself. This way you can type in your raw data immediately during the experiment, to receive an instant overview of your results.** "
   ]
  },
  {
   "cell_type": "markdown",
   "id": "e519212a-d8cc-41e0-badc-b21ec247130e",
   "metadata": {},
   "source": [
    " #### <font color=FF4500> 1.1. Aim "
   ]
  },
  {
   "cell_type": "markdown",
   "id": "cfd1b591-68b9-45c7-afc2-79d79acc410d",
   "metadata": {},
   "source": [
    "In this experiment, you will incubate E. coli K12 in liquid shaking culture and monitor cell growth by \r\n",
    "total cell count, OD measurement and live cell count as well as dry cell mass.  \r\n",
    "The following parameters have to be calculated: \r\n",
    "generation number, generation time, maximal specific growth rate, doubling time, yield, and lead time"
   ]
  },
  {
   "cell_type": "markdown",
   "id": "cdfc345d-8262-4c5b-9448-8c0a4b84296a",
   "metadata": {},
   "source": [
    " #### <font color=FF4500> 1.2. Summary"
   ]
  },
  {
   "cell_type": "markdown",
   "id": "f1fcde40-30a8-4b2f-bc74-b698b9fdf807",
   "metadata": {},
   "source": [
    "On day 1, a pre-culture of E. coli is inoculated and incubated over night at 37°C/120 rpm. On day 2, the \r\n",
    "main culture is inoculated from the pre-culture and samples are drawn at different time points. \r\n",
    "Samples are analyzed for total cell numbers, OD, dry cell mass and CFU/mL.  \r\n",
    "The protocol has to encompass a short description of the experiment, a blot of the growth curve, a \r\n",
    "calculation of the parameters depicted above and a short discussion. "
   ]
  },
  {
   "cell_type": "markdown",
   "id": "7719d7c1-9495-4090-a3d8-f50054b895ac",
   "metadata": {},
   "source": [
    " ### <font color=FF4500> 2. Materials </font> </center> "
   ]
  },
  {
   "cell_type": "markdown",
   "id": "4bacfa83-ec1c-4791-937d-56bfdcb87466",
   "metadata": {},
   "source": [
    " #### <font color=FF4500> 2.1. Bacterial strain "
   ]
  },
  {
   "cell_type": "markdown",
   "id": "cfa61984-ebc0-4270-8ced-4976aa185195",
   "metadata": {},
   "source": [
    "Escherichia coli K12"
   ]
  },
  {
   "cell_type": "markdown",
   "id": "9d40e92c-cb9e-4a5a-b0f0-fb42f278115e",
   "metadata": {},
   "source": [
    " #### <font color=FF4500> 2.2. Culture Media  "
   ]
  },
  {
   "cell_type": "markdown",
   "id": "6ce5c15f-36e5-472f-8553-f219d861996a",
   "metadata": {},
   "source": [
    " ##### <font color=FF4500> 2.2.1. Tryptic Soy Medium (TSB)"
   ]
  },
  {
   "cell_type": "markdown",
   "id": "9f410fbe-162d-4b97-8081-79b6cf7ddc62",
   "metadata": {},
   "source": [
    "Pre-mix of casein peptone (pancreatic), dipotassium hydrogen phosphate, glucose, sodium chloride, \r\n",
    "and soya peptone (papain digest.). Weigh in and add water according to the instructions of the \r\n",
    "supplier\n",
    "Autoclave at 15 psi/121-124°C for 20 minutes. . \r\n"
   ]
  },
  {
   "cell_type": "markdown",
   "id": "ad265cd0-7b63-4b58-b2ef-a8eecf4736c9",
   "metadata": {},
   "source": [
    " ##### <font color=FF4500> 2.2.2. Tryptic Soy Medium (TSB)"
   ]
  },
  {
   "cell_type": "markdown",
   "id": "ec000b2b-aa58-4596-b8f3-2f355d7f87a5",
   "metadata": {},
   "source": [
    "Composition as TSB medium plus 15 g of Agar Agar. \r\n",
    "Autoclave the solution at 15 psi/121-124°C for 20 minutes. Use DURAN® laboratory bottles! Add a \r\n",
    "stirring bar. Before pouring plates, the solution has to be stirred and cooled down to roughly 50°C. \r\n",
    "24 agar plates are required"
   ]
  },
  {
   "cell_type": "markdown",
   "id": "af5a1929-57fc-4120-8fea-67333fa32580",
   "metadata": {},
   "source": [
    " ##### <font color=FF4500> 2.2.3. PBS"
   ]
  },
  {
   "cell_type": "markdown",
   "id": "8a73a1ed-ad50-4a32-8a69-8ebda86b0b48",
   "metadata": {},
   "source": [
    "Dissolve ready-to use PBS tablets (see instructions of supplier) in demineralized water. \n",
    "Autoclave at 15 psi/121-124°C for 20 minutes."
   ]
  },
  {
   "cell_type": "markdown",
   "id": "ba52c173-7adb-4e3d-b537-fe76e7166bf2",
   "metadata": {},
   "source": [
    " ### <font color=FF4500> 3. Experimental procedure </font> </center> "
   ]
  },
  {
   "cell_type": "code",
   "execution_count": 1,
   "id": "6d4144b3-bfa0-4edd-a6fd-d07172efc74e",
   "metadata": {},
   "outputs": [
    {
     "data": {
      "text/html": [
       "\n",
       "<a href='https://smart-labs-fronend.onrender.com/hsrw/microbial-growth/1' target='_blank' style='text-decoration: none;'>\n",
       "    <button style='\n",
       "        background-color: white; /* White background */\n",
       "        color: #333333; /* Dark text for contrast */\n",
       "        padding: 10px 24px;\n",
       "        text-align: center;\n",
       "        text-decoration: none;\n",
       "        display: inline-block;\n",
       "        font-size: 16px;\n",
       "        font-weight: bold;\n",
       "        margin: 4px 2px;\n",
       "        cursor: pointer;\n",
       "        border: 5px solid #4568DC; /* Border color */\n",
       "        border-radius: 25px;\n",
       "        width: 300px; /* Set the width here */\n",
       "        box-shadow: 0 4px 8px 0 rgba(0,0,0,0.2);\n",
       "        transition: 0.3s;\n",
       "        '>\n",
       "        \n",
       "        Go to Methods Website  \n",
       "        <img src='resources/img/r1.gif' style='vertical-align: middle; margin-right: 8px;' width='20' height='20'>\n",
       "\n",
       "    </button>\n",
       "</a>\n"
      ],
      "text/plain": [
       "<IPython.core.display.HTML object>"
      ]
     },
     "metadata": {},
     "output_type": "display_data"
    }
   ],
   "source": [
    "%run resources/microbialgrowth_smartlab.ipynb"
   ]
  },
  {
   "cell_type": "markdown",
   "id": "f8851f0a-3039-4871-abc5-a1868020dc21",
   "metadata": {},
   "source": [
    " #### <font color=FF4500> 3.1. Day 1"
   ]
  },
  {
   "cell_type": "markdown",
   "id": "cd83d15b-b5f5-4d7a-b6b2-84484e3d3c4c",
   "metadata": {},
   "source": [
    "Transfer 25 mL of TSB medium into a sterile 50 mL Falcon tube. Inoculate the medium with E. coli cells \r\n",
    "by application of 100 μL of suspension from a deep-frozen stock (completely thaw the stock and mix \r\n",
    "before inoculation)\n",
    ". \r\n",
    "Transferred the culture into a shaker and incubated over night at 37°C at 120 rpm\n",
    ". \r\n",
    "Record the starting time"
   ]
  },
  {
   "cell_type": "markdown",
   "id": "456a7481-b242-4bfe-a8a3-86c8159ab4fb",
   "metadata": {},
   "source": [
    " #### <font color=FF4500> 3.1. Day 2"
   ]
  },
  {
   "cell_type": "markdown",
   "id": "594e2848-4aa5-4579-8cc3-9d3ef1ca64c1",
   "metadata": {},
   "source": [
    "Transfer 50 mL of pre-heated (37°C) TSB medium to a sterile 100 mL Erlenmeyer flask. Mark the flask \r\n",
    "with date, strain designation and group number (do not write directly on the flask!). Inoculate the \r\n",
    "medium with 4 mL of the pre-culture. Mix the suspension by radial shaking. \r\n",
    "Immediately after inoculation, draw the first sample (see below)"
   ]
  },
  {
   "cell_type": "markdown",
   "id": "2bf4fd3a-d9ec-4a18-a72b-f1134b8d1f45",
   "metadata": {},
   "source": [
    "<font color=\"blue\">For sampling, draw 1.5 mL of the suspension in a sterile manner using a 5 mL serological pipette. \r\n",
    "Transfer the sample to a sterile 2 mL Eppendorf tube. Tubes are marked with the group name and the \r\n",
    "sampling time. For the sampling times, please refer to Table 2. Please note that in case the dry weight \r\n",
    "of the biomass has to be determined, an additional 1 mL has to be drawn."
   ]
  },
  {
   "cell_type": "markdown",
   "id": "fb83c3f1-aebf-47d6-9e7f-eb4ea83898c2",
   "metadata": {},
   "source": [
    "**Immediately after sampling, transferred the flask back into the shaker for further incubation.** Ideally, \n",
    "samples are incubated with vigorous shaking (350 rpm or higher); the actual rpm values is set by the \n",
    "supervisor and might be lower based on practical considerations. Please note the actual rpm value and \n",
    "state it in the protocol. \n",
    "\n",
    "\n",
    "For OD measurement, the sample is transferred to a plastic cuvette and OD600 is determined (in \n",
    "general, 250 μL are sufficient – depending on the cuvettes). Always determine the OD of the non-\n",
    "diluted sample and, if required, in addition an appropriately diluted sample. To avoid unnecessary \n",
    "costs, you will use one cuvette for the blank and another one for the sample. Close the blank-cuvette \n",
    "with Parafilm to avoid evaporation of the TSB medium. \n",
    "\n",
    "\n",
    "For assessing CFU, serial dilutions are performed and spread-plated. Please refer to Table 2 with \n",
    "respect to the dilutions and corresponding time points. Please remember that CFU should be \n",
    "determined under sterile conditions. Make sure that you label your plates appropriately. \n"
   ]
  },
  {
   "cell_type": "markdown",
   "id": "e3f87b8b-a8ca-4fc1-8c10-18c4f414eddb",
   "metadata": {},
   "source": [
    "For total cell counts, the remaining sample is used.  \r\n",
    "Prepare a table containing all measured values, dilutions and the corresponding calculated values. You \r\n",
    "should update the table in “real-time”, as this will give you an overview of what is happening in your \r\n",
    "culture – and whether your individual values make sense. "
   ]
  },
  {
   "cell_type": "markdown",
   "id": "c42116c1-bd03-43cf-8b0e-e78870d0edc0",
   "metadata": {},
   "source": [
    "| Time (in s) | OD | Dry Weight | CFU | Total Cells |\n",
    "|-------------|----|------------|-----|-------------|\n",
    "|      0      |  X |     X      |  X  |      X      |\n",
    "|     30      |  X |     -      |  -  |      X      |\n",
    "|     60      |  X |     -      |  X  |      X      |\n",
    "|     90      |  X |     -      |  -  |      X      |\n",
    "|    120      |  X |     -      |  X  |      X      |\n",
    "|    150      |  X |     X      |  -  |      X      |\n",
    "|    180      |  X |     -      |  X  |      X      |\n",
    "|    240      |  X |     -      |  -  |      X      |\n",
    "|    300      |  X |     -      |  X  |      X      |\n",
    "|    360      |  X |     -      |  -  |      X      |\n",
    "|    420      |  X |     X      |  X  |      X      |\n"
   ]
  },
  {
   "cell_type": "markdown",
   "id": "87b60a46-7dd1-4536-b005-76b8d58efe3b",
   "metadata": {},
   "source": [
    "| Culture time | Dilution         |\n",
    "|--------------|------------------|\n",
    "| <= 3h        | 10 e -5, -6, -7  |\n",
    "| >3 h         | 10 e -6, -7, -8  |\n"
   ]
  },
  {
   "cell_type": "markdown",
   "id": "f79744c8-04c6-4700-b170-70a569b67862",
   "metadata": {},
   "source": [
    " ### <font color=FF4500> 4. Protocol </font> </center> "
   ]
  },
  {
   "cell_type": "markdown",
   "id": "b7d89f78-0ffe-49be-ab73-0da1d01644f2",
   "metadata": {},
   "source": [
    "The protocol has to contain a short description of the experiment, the detailed designation of the \r\n",
    "shaker and photometer used, a tabular listing of the results and blots of OD, lg OD, CFU, lg CFU, cell \r\n",
    "numbers, lg cell numbers as a function of time. Plot the dry cell mass vs. time based on your dry cell \r\n",
    "mass sample (one point measurement: set OD 0 as 0 mg dry mass, OD xx corresponds to your dry mass \r\n",
    "yy of your sampl\n",
    "\n",
    "e). \r\n",
    "The specific maximal growth rate, doubling time is calculated based on the OD values. The generation \r\n",
    "number, generation time and number of generations is calculated for the total cell numbers and life \r\n",
    "cell numbers. The lead time is calculated for OD, CFU and total cell numbers. The cellular growth yield \r\n",
    "is calculated based on the life cell counts. If a defined medium is used, the molar growth yield and \r\n",
    "molar energy growth yield (growth yield per mol ATP produced) is calculated, assuming that energy is \r\n",
    "produced strict aerobically via glycolysis, citrate acid cycle and oxidative respiration. \r\n",
    "Compare the overall kinetics of OD, CFU and total cell number curves and discusses differences. \r\n",
    "Compare the parameters calculated for total cell counts and CFU. Try to identify periods where OD \r\n",
    "values and CFU values correlate; discuss."
   ]
  },
  {
   "cell_type": "markdown",
   "id": "859e8b5d-81e6-49d1-9a2b-f26fa390f1fe",
   "metadata": {},
   "source": [
    "#### <font color=FF4500><b> !! Only insert whole numbers or decimals in the table for plotting !! </b></font> </center> \n",
    "#### <font color=FF4500><b> !! Make sure to click Save Data after entering your values !! </b></font> </center> "
   ]
  },
  {
   "cell_type": "code",
   "execution_count": 8,
   "id": "2caaf840-8fcd-4505-90ae-33f50c5db936",
   "metadata": {},
   "outputs": [
    {
     "data": {
      "application/vnd.jupyter.widget-view+json": {
       "model_id": "cfef42011f054b66b9f1760bec4458db",
       "version_major": 2,
       "version_minor": 0
      },
      "text/plain": [
       "VBox(children=(HBox(children=(Label(value='Time (mins)', layout=Layout(margin='2px', padding='5px', width='120…"
      ]
     },
     "metadata": {},
     "output_type": "display_data"
    },
    {
     "data": {
      "application/vnd.jupyter.widget-view+json": {
       "model_id": "2c6ee39e86a9411794474e914b9f0377",
       "version_major": 2,
       "version_minor": 0
      },
      "text/plain": [
       "Button(description='Plot Total Cell Count vs Time', layout=Layout(border_bottom='1px solid black', border_left…"
      ]
     },
     "metadata": {},
     "output_type": "display_data"
    },
    {
     "data": {
      "application/vnd.jupyter.widget-view+json": {
       "model_id": "42d1c5222ee849368ed8ff4f54de3fc6",
       "version_major": 2,
       "version_minor": 0
      },
      "text/plain": [
       "Output()"
      ]
     },
     "metadata": {},
     "output_type": "display_data"
    },
    {
     "data": {
      "application/vnd.jupyter.widget-view+json": {
       "model_id": "1f0c71affd7c480595a7912391d485fb",
       "version_major": 2,
       "version_minor": 0
      },
      "text/plain": [
       "Button(description='Plot Optical Density vs Time', layout=Layout(border_bottom='1px solid black', border_left=…"
      ]
     },
     "metadata": {},
     "output_type": "display_data"
    },
    {
     "data": {
      "application/vnd.jupyter.widget-view+json": {
       "model_id": "b64941723e94427b892085456c4c64d0",
       "version_major": 2,
       "version_minor": 0
      },
      "text/plain": [
       "Output()"
      ]
     },
     "metadata": {},
     "output_type": "display_data"
    },
    {
     "data": {
      "application/vnd.jupyter.widget-view+json": {
       "model_id": "1f0ce3270c2d43c3a0eba7d3a9bee30f",
       "version_major": 2,
       "version_minor": 0
      },
      "text/plain": [
       "Button(description='Save to Excel', layout=Layout(border_bottom='1px solid #1F6F44', border_left='1px solid #1…"
      ]
     },
     "metadata": {},
     "output_type": "display_data"
    }
   ],
   "source": [
    "%run resources/features.ipynb"
   ]
  },
  {
   "cell_type": "code",
   "execution_count": null,
   "id": "faa26afc-bbbf-4dd2-aa5a-231b22f23283",
   "metadata": {},
   "outputs": [],
   "source": []
  }
 ],
 "metadata": {
  "kernelspec": {
   "display_name": "Python 3 (ipykernel)",
   "language": "python",
   "name": "python3"
  },
  "language_info": {
   "codemirror_mode": {
    "name": "ipython",
    "version": 3
   },
   "file_extension": ".py",
   "mimetype": "text/x-python",
   "name": "python",
   "nbconvert_exporter": "python",
   "pygments_lexer": "ipython3",
   "version": "3.11.6"
  }
 },
 "nbformat": 4,
 "nbformat_minor": 5
}
